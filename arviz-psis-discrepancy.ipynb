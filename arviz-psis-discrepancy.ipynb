{
 "cells": [
  {
   "cell_type": "markdown",
   "id": "0f988172-961e-4345-9ea3-c2903527254c",
   "metadata": {},
   "source": [
    "# Discrepancy of Generalized Pareto parameter estimate $\\hat k$"
   ]
  },
  {
   "cell_type": "code",
   "execution_count": 1,
   "id": "9b17b87e-165a-4847-a4ea-bbc3ea708efa",
   "metadata": {},
   "outputs": [],
   "source": [
    "# uncomment to install arviz in the active environment\n",
    "#!pip install arviz"
   ]
  },
  {
   "cell_type": "code",
   "execution_count": 2,
   "id": "2a0d52fc-c273-47f4-afcf-5abdba31a4bc",
   "metadata": {},
   "outputs": [],
   "source": [
    "import numpy as np\n",
    "import arviz as az\n",
    "import matplotlib.pyplot as plt\n",
    "\n",
    "import py.psis as psis"
   ]
  },
  {
   "cell_type": "code",
   "execution_count": 3,
   "id": "881a5b6f-cfca-411b-a126-ca375fa3d7a3",
   "metadata": {},
   "outputs": [
    {
     "data": {
      "text/plain": [
       "array([-0.75904637, -1.42879456, -1.4685748 , -1.6957333 , -1.59647378,\n",
       "       -1.53114609, -1.55555131, -1.61090202])"
      ]
     },
     "execution_count": 3,
     "metadata": {},
     "output_type": "execute_result"
    }
   ],
   "source": [
    "data = az.load_arviz_data(\"non_centered_eight\")\n",
    "log_weights = data.log_likelihood[\"obs\"].stack(\n",
    "    __sample__=[\"chain\", \"draw\"]\n",
    ")\n",
    "\n",
    "lw_new, khat = az.psislw(log_weights)\n",
    "khats_az = khat.values\n",
    "\n",
    "khats_az"
   ]
  },
  {
   "cell_type": "markdown",
   "id": "792d4c6b-a462-4be9-aa35-69ca3fc05608",
   "metadata": {},
   "source": [
    "We reload the dataset to make sure the computation gets the same inputs. This is necessary since while I write this `az.psislw` is mutating its input. See the [issue about it here](https://github.com/arviz-devs/arviz/issues/2376)."
   ]
  },
  {
   "cell_type": "code",
   "execution_count": 4,
   "id": "b9a2e41b-58a1-4e6a-a01e-02f2263464b7",
   "metadata": {},
   "outputs": [
    {
     "name": "stderr",
     "output_type": "stream",
     "text": [
      "/home/ho/code/PSIS/py/psis.py:297: RuntimeWarning: overflow encountered in exp\n",
      "  np.exp(temp, out=temp)\n"
     ]
    },
    {
     "data": {
      "text/plain": [
       "array([-0.51473359, -2.94129762, -2.62328168, -3.22422551, -2.29807491,\n",
       "       -3.10027427, -0.95715744, -2.76054336])"
      ]
     },
     "execution_count": 4,
     "metadata": {},
     "output_type": "execute_result"
    }
   ],
   "source": [
    "data = az.load_arviz_data(\"non_centered_eight\")\n",
    "log_weights = data.log_likelihood[\"obs\"].stack(\n",
    "    __sample__=[\"chain\", \"draw\"]\n",
    ")\n",
    "khats = np.zeros(len(log_weights.values))\n",
    "for i,lw in enumerate(log_weights.values):\n",
    "    khat, sigmahat = psis.gpdfitnew(np.exp(lw))\n",
    "    khats[i] = khat\n",
    "\n",
    "khats"
   ]
  },
  {
   "cell_type": "code",
   "execution_count": 6,
   "id": "e81eeb8b-46d2-4382-be5b-8a2197f234fd",
   "metadata": {},
   "outputs": [
    {
     "data": {
      "image/png": "[encoded data removed]",
      "text/plain": [
       "<Figure size 640x480 with 1 Axes>"
      ]
     },
     "metadata": {},
     "output_type": "display_data"
    }
   ],
   "source": [
    "plt.scatter(khats_az, khats)\n",
    "plt.xlabel(\"$\\hat k$ implemented in ArviZ\")\n",
    "plt.ylabel(\"$\\hat k$ in this repo\");"
   ]
  },
  {
   "cell_type": "code",
   "execution_count": null,
   "id": "b977452c-262b-47b1-a37b-e0aa39dbb8ae",
   "metadata": {},
   "outputs": [],
   "source": []
  }
 ],
 "metadata": {
  "kernelspec": {
   "display_name": "Python 3 (ipykernel)",
   "language": "python",
   "name": "python3"
  },
  "language_info": {
   "codemirror_mode": {
    "name": "ipython",
    "version": 3
   },
   "file_extension": ".py",
   "mimetype": "text/x-python",
   "name": "python",
   "nbconvert_exporter": "python",
   "pygments_lexer": "ipython3",
   "version": "3.10.14"
  },
  "widgets": {
   "application/vnd.jupyter.widget-state+json": {
    "state": {},
    "version_major": 2,
    "version_minor": 0
   }
  }
 },
 "nbformat": 4,
 "nbformat_minor": 5
}
